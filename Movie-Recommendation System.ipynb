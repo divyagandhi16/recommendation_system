{
 "cells": [
  {
   "cell_type": "markdown",
   "id": "7a4dfcb5-bdc1-4ac0-8452-50628cd45463",
   "metadata": {
    "jp-MarkdownHeadingCollapsed": true
   },
   "source": [
    "## MOVIE RECOMMENDATION SYSTEM\n",
    "\r\n",
    "In today's digital landscape, finding the perfect movie to watch can be a daunting task due to the sheer volume of available options. To simplify this process, we introduce a movie recommendation system designed to help users discover films that match their preferences. Using two extensive datasets—movies and credits—our system implements two distinct recommendation models: a popularity-based model and a content-based model.\r\n",
    "\r\n",
    "The popularity-based model utilizes overall ratings aoteview counts to recommend highly acclaimed and trending movies, ensuring users are exposed to widely appreciated titles. On the other hand, the content-based model analyzes specific movie attributes, such as genre, director, and cast, to provide personalized recommendations by identifying films similar to those a user has previously enjoyed. By integrating these models, our system delivers a well-rounded approach that accommodates both general trends and individual tastes, enhancing the movie discovery experience for users."
   ]
  },
  {
   "cell_type": "markdown",
   "id": "866315fa-52d9-4f29-b72d-2477bb189ed3",
   "metadata": {
    "jp-MarkdownHeadingCollapsed": true
   },
   "source": [
    "#### DATA GATHERING"
   ]
  },
  {
   "cell_type": "markdown",
   "id": "bc238bf5-3168-499a-a79a-280f8fd05bac",
   "metadata": {},
   "source": [
    "Importing various libraries.\n",
    "\n",
    "1. The NumPy and pandas libraries are essential for data manipulation and analysis in Python.\n",
    "2. NumPy is used for numerical computing in Python. It provides support for arrays, matrices, and many mathematical functions.\n",
    "3. Pandas is a powerful data manipulation library built on top of NumPy. It provides data structures like DataFrame and Series for efficient ata manipulation."
   ]
  },
  {
   "cell_type": "code",
   "execution_count": 82,
   "id": "f120a5ef-9c6b-4606-af4f-01063c184bc0",
   "metadata": {},
   "outputs": [],
   "source": [
    "import numpy as np\n",
    "import pandas as pd"
   ]
  },
  {
   "cell_type": "markdown",
   "id": "0e0f8b77-a893-49bf-ac1d-e3c37ca42c17",
   "metadata": {},
   "source": [
    "The movies dataset includes detailed information such as genres, budget, revenue, and ratings, while the credits dataset provides insights into the cast and crew involved in each movie. These datasets together form the foundation for building our recommendation models."
   ]
  },
  {
   "cell_type": "code",
   "execution_count": 83,
   "id": "eda6e979-8789-4376-8b54-b938939e8a48",
   "metadata": {},
   "outputs": [],
   "source": [
    "movies = pd.read_csv('tmdb_5000_movies.csv')\n",
    "credits = pd.read_csv('tmdb_5000_credits.csv')"
   ]
  },
  {
   "cell_type": "code",
   "execution_count": 84,
   "id": "1855b2d8-9361-4711-a000-51747afc8aa8",
   "metadata": {},
   "outputs": [
    {
     "data": {
      "text/html": [
       "<div>\n",
       "<style scoped>\n",
       "    .dataframe tbody tr th:only-of-type {\n",
       "        vertical-align: middle;\n",
       "    }\n",
       "\n",
       "    .dataframe tbody tr th {\n",
       "        vertical-align: top;\n",
       "    }\n",
       "\n",
       "    .dataframe thead th {\n",
       "        text-align: right;\n",
       "    }\n",
       "</style>\n",
       "<table border=\"1\" class=\"dataframe\">\n",
       "  <thead>\n",
       "    <tr style=\"text-align: right;\">\n",
       "      <th></th>\n",
       "      <th>budget</th>\n",
       "      <th>genres</th>\n",
       "      <th>homepage</th>\n",
       "      <th>id</th>\n",
       "      <th>keywords</th>\n",
       "      <th>original_language</th>\n",
       "      <th>original_title</th>\n",
       "      <th>overview</th>\n",
       "      <th>popularity</th>\n",
       "      <th>production_companies</th>\n",
       "      <th>production_countries</th>\n",
       "      <th>release_date</th>\n",
       "      <th>revenue</th>\n",
       "      <th>runtime</th>\n",
       "      <th>spoken_languages</th>\n",
       "      <th>status</th>\n",
       "      <th>tagline</th>\n",
       "      <th>title</th>\n",
       "      <th>vote_average</th>\n",
       "      <th>vote_count</th>\n",
       "    </tr>\n",
       "  </thead>\n",
       "  <tbody>\n",
       "    <tr>\n",
       "      <th>0</th>\n",
       "      <td>237000000</td>\n",
       "      <td>[{\"id\": 28, \"name\": \"Action\"}, {\"id\": 12, \"nam...</td>\n",
       "      <td>http://www.avatarmovie.com/</td>\n",
       "      <td>19995</td>\n",
       "      <td>[{\"id\": 1463, \"name\": \"culture clash\"}, {\"id\":...</td>\n",
       "      <td>en</td>\n",
       "      <td>Avatar</td>\n",
       "      <td>In the 22nd century, a paraplegic Marine is di...</td>\n",
       "      <td>150.437577</td>\n",
       "      <td>[{\"name\": \"Ingenious Film Partners\", \"id\": 289...</td>\n",
       "      <td>[{\"iso_3166_1\": \"US\", \"name\": \"United States o...</td>\n",
       "      <td>2009-12-10</td>\n",
       "      <td>2787965087</td>\n",
       "      <td>162.0</td>\n",
       "      <td>[{\"iso_639_1\": \"en\", \"name\": \"English\"}, {\"iso...</td>\n",
       "      <td>Released</td>\n",
       "      <td>Enter the World of Pandora.</td>\n",
       "      <td>Avatar</td>\n",
       "      <td>7.2</td>\n",
       "      <td>11800</td>\n",
       "    </tr>\n",
       "    <tr>\n",
       "      <th>1</th>\n",
       "      <td>300000000</td>\n",
       "      <td>[{\"id\": 12, \"name\": \"Adventure\"}, {\"id\": 14, \"...</td>\n",
       "      <td>http://disney.go.com/disneypictures/pirates/</td>\n",
       "      <td>285</td>\n",
       "      <td>[{\"id\": 270, \"name\": \"ocean\"}, {\"id\": 726, \"na...</td>\n",
       "      <td>en</td>\n",
       "      <td>Pirates of the Caribbean: At World's End</td>\n",
       "      <td>Captain Barbossa, long believed to be dead, ha...</td>\n",
       "      <td>139.082615</td>\n",
       "      <td>[{\"name\": \"Walt Disney Pictures\", \"id\": 2}, {\"...</td>\n",
       "      <td>[{\"iso_3166_1\": \"US\", \"name\": \"United States o...</td>\n",
       "      <td>2007-05-19</td>\n",
       "      <td>961000000</td>\n",
       "      <td>169.0</td>\n",
       "      <td>[{\"iso_639_1\": \"en\", \"name\": \"English\"}]</td>\n",
       "      <td>Released</td>\n",
       "      <td>At the end of the world, the adventure begins.</td>\n",
       "      <td>Pirates of the Caribbean: At World's End</td>\n",
       "      <td>6.9</td>\n",
       "      <td>4500</td>\n",
       "    </tr>\n",
       "  </tbody>\n",
       "</table>\n",
       "</div>"
      ],
      "text/plain": [
       "      budget                                             genres  \\\n",
       "0  237000000  [{\"id\": 28, \"name\": \"Action\"}, {\"id\": 12, \"nam...   \n",
       "1  300000000  [{\"id\": 12, \"name\": \"Adventure\"}, {\"id\": 14, \"...   \n",
       "\n",
       "                                       homepage     id  \\\n",
       "0                   http://www.avatarmovie.com/  19995   \n",
       "1  http://disney.go.com/disneypictures/pirates/    285   \n",
       "\n",
       "                                            keywords original_language  \\\n",
       "0  [{\"id\": 1463, \"name\": \"culture clash\"}, {\"id\":...                en   \n",
       "1  [{\"id\": 270, \"name\": \"ocean\"}, {\"id\": 726, \"na...                en   \n",
       "\n",
       "                             original_title  \\\n",
       "0                                    Avatar   \n",
       "1  Pirates of the Caribbean: At World's End   \n",
       "\n",
       "                                            overview  popularity  \\\n",
       "0  In the 22nd century, a paraplegic Marine is di...  150.437577   \n",
       "1  Captain Barbossa, long believed to be dead, ha...  139.082615   \n",
       "\n",
       "                                production_companies  \\\n",
       "0  [{\"name\": \"Ingenious Film Partners\", \"id\": 289...   \n",
       "1  [{\"name\": \"Walt Disney Pictures\", \"id\": 2}, {\"...   \n",
       "\n",
       "                                production_countries release_date     revenue  \\\n",
       "0  [{\"iso_3166_1\": \"US\", \"name\": \"United States o...   2009-12-10  2787965087   \n",
       "1  [{\"iso_3166_1\": \"US\", \"name\": \"United States o...   2007-05-19   961000000   \n",
       "\n",
       "   runtime                                   spoken_languages    status  \\\n",
       "0    162.0  [{\"iso_639_1\": \"en\", \"name\": \"English\"}, {\"iso...  Released   \n",
       "1    169.0           [{\"iso_639_1\": \"en\", \"name\": \"English\"}]  Released   \n",
       "\n",
       "                                          tagline  \\\n",
       "0                     Enter the World of Pandora.   \n",
       "1  At the end of the world, the adventure begins.   \n",
       "\n",
       "                                      title  vote_average  vote_count  \n",
       "0                                    Avatar           7.2       11800  \n",
       "1  Pirates of the Caribbean: At World's End           6.9        4500  "
      ]
     },
     "execution_count": 84,
     "metadata": {},
     "output_type": "execute_result"
    }
   ],
   "source": [
    "movies.head(2)"
   ]
  },
  {
   "cell_type": "code",
   "execution_count": 85,
   "id": "dbb99588-036a-489c-94cf-63b4a709942a",
   "metadata": {},
   "outputs": [
    {
     "data": {
      "text/html": [
       "<div>\n",
       "<style scoped>\n",
       "    .dataframe tbody tr th:only-of-type {\n",
       "        vertical-align: middle;\n",
       "    }\n",
       "\n",
       "    .dataframe tbody tr th {\n",
       "        vertical-align: top;\n",
       "    }\n",
       "\n",
       "    .dataframe thead th {\n",
       "        text-align: right;\n",
       "    }\n",
       "</style>\n",
       "<table border=\"1\" class=\"dataframe\">\n",
       "  <thead>\n",
       "    <tr style=\"text-align: right;\">\n",
       "      <th></th>\n",
       "      <th>movie_id</th>\n",
       "      <th>title</th>\n",
       "      <th>cast</th>\n",
       "      <th>crew</th>\n",
       "    </tr>\n",
       "  </thead>\n",
       "  <tbody>\n",
       "    <tr>\n",
       "      <th>0</th>\n",
       "      <td>19995</td>\n",
       "      <td>Avatar</td>\n",
       "      <td>[{\"cast_id\": 242, \"character\": \"Jake Sully\", \"...</td>\n",
       "      <td>[{\"credit_id\": \"52fe48009251416c750aca23\", \"de...</td>\n",
       "    </tr>\n",
       "    <tr>\n",
       "      <th>1</th>\n",
       "      <td>285</td>\n",
       "      <td>Pirates of the Caribbean: At World's End</td>\n",
       "      <td>[{\"cast_id\": 4, \"character\": \"Captain Jack Spa...</td>\n",
       "      <td>[{\"credit_id\": \"52fe4232c3a36847f800b579\", \"de...</td>\n",
       "    </tr>\n",
       "  </tbody>\n",
       "</table>\n",
       "</div>"
      ],
      "text/plain": [
       "   movie_id                                     title  \\\n",
       "0     19995                                    Avatar   \n",
       "1       285  Pirates of the Caribbean: At World's End   \n",
       "\n",
       "                                                cast  \\\n",
       "0  [{\"cast_id\": 242, \"character\": \"Jake Sully\", \"...   \n",
       "1  [{\"cast_id\": 4, \"character\": \"Captain Jack Spa...   \n",
       "\n",
       "                                                crew  \n",
       "0  [{\"credit_id\": \"52fe48009251416c750aca23\", \"de...  \n",
       "1  [{\"credit_id\": \"52fe4232c3a36847f800b579\", \"de...  "
      ]
     },
     "execution_count": 85,
     "metadata": {},
     "output_type": "execute_result"
    }
   ],
   "source": [
    "credits.head(2)"
   ]
  },
  {
   "cell_type": "markdown",
   "id": "0359135d-b6e6-4291-8741-60490bf0ef07",
   "metadata": {},
   "source": [
    "We will first use the info method of pandas which provides a concise summary of a DataFrame, including the index dtype, column dtypes, non-null values, and memory usage."
   ]
  },
  {
   "cell_type": "code",
   "execution_count": 86,
   "id": "c88e2863-0e65-410f-bf90-776d2510eed8",
   "metadata": {},
   "outputs": [
    {
     "name": "stdout",
     "output_type": "stream",
     "text": [
      "<class 'pandas.core.frame.DataFrame'>\n",
      "RangeIndex: 4803 entries, 0 to 4802\n",
      "Data columns (total 20 columns):\n",
      " #   Column                Non-Null Count  Dtype  \n",
      "---  ------                --------------  -----  \n",
      " 0   budget                4803 non-null   int64  \n",
      " 1   genres                4803 non-null   object \n",
      " 2   homepage              1712 non-null   object \n",
      " 3   id                    4803 non-null   int64  \n",
      " 4   keywords              4803 non-null   object \n",
      " 5   original_language     4803 non-null   object \n",
      " 6   original_title        4803 non-null   object \n",
      " 7   overview              4800 non-null   object \n",
      " 8   popularity            4803 non-null   float64\n",
      " 9   production_companies  4803 non-null   object \n",
      " 10  production_countries  4803 non-null   object \n",
      " 11  release_date          4802 non-null   object \n",
      " 12  revenue               4803 non-null   int64  \n",
      " 13  runtime               4801 non-null   float64\n",
      " 14  spoken_languages      4803 non-null   object \n",
      " 15  status                4803 non-null   object \n",
      " 16  tagline               3959 non-null   object \n",
      " 17  title                 4803 non-null   object \n",
      " 18  vote_average          4803 non-null   float64\n",
      " 19  vote_count            4803 non-null   int64  \n",
      "dtypes: float64(3), int64(4), object(13)\n",
      "memory usage: 750.6+ KB\n"
     ]
    }
   ],
   "source": [
    "movies.info()"
   ]
  },
  {
   "cell_type": "code",
   "execution_count": 87,
   "id": "0d133f5d-4a97-4f7c-bdb2-76423ba24cb2",
   "metadata": {},
   "outputs": [
    {
     "name": "stdout",
     "output_type": "stream",
     "text": [
      "<class 'pandas.core.frame.DataFrame'>\n",
      "RangeIndex: 4803 entries, 0 to 4802\n",
      "Data columns (total 4 columns):\n",
      " #   Column    Non-Null Count  Dtype \n",
      "---  ------    --------------  ----- \n",
      " 0   movie_id  4803 non-null   int64 \n",
      " 1   title     4803 non-null   object\n",
      " 2   cast      4803 non-null   object\n",
      " 3   crew      4803 non-null   object\n",
      "dtypes: int64(1), object(3)\n",
      "memory usage: 150.2+ KB\n"
     ]
    }
   ],
   "source": [
    "credits.info()"
   ]
  },
  {
   "cell_type": "markdown",
   "id": "363eb9e9-bf07-4b30-9888-babcd2ea2850",
   "metadata": {},
   "source": [
    "Renaming 'id' column of movies dataset to 'movie_id'."
   ]
  },
  {
   "cell_type": "code",
   "execution_count": 88,
   "id": "e07c24ee-ad1c-4bb6-8cb5-490ee858b0cd",
   "metadata": {},
   "outputs": [],
   "source": [
    "movies.rename(columns = {'id':'movie_id'}, inplace = True)"
   ]
  },
  {
   "cell_type": "markdown",
   "id": "f627d718-c404-4b80-90f8-e81a88fa2a95",
   "metadata": {
    "jp-MarkdownHeadingCollapsed": true
   },
   "source": [
    "#### POPULARITY BASED MODEL"
   ]
  },
  {
   "cell_type": "markdown",
   "id": "f8595c39-676b-4d52-9681-315fd4381681",
   "metadata": {},
   "source": [
    "Under the popularity based model, we will be filtering movies with a minimum vote count of 700 and a minimum rating of 7 to classify them as popular.  Then, we will ask the user to specify two genres and retrieves the top 5 most popular movies within both selected genres."
   ]
  },
  {
   "cell_type": "markdown",
   "id": "b06b4089-41c5-4ce5-bdfa-1e313152a155",
   "metadata": {},
   "source": [
    "Keeping only those movies whose minimum vote_count is 700 and minimum rating('vote_average') is 7 to classify them as popular movies."
   ]
  },
  {
   "cell_type": "code",
   "execution_count": 89,
   "id": "b2913898-fb7f-473c-ac43-646d30cd3c98",
   "metadata": {},
   "outputs": [],
   "source": [
    "popular_movies = movies[(movies['vote_count']>=700) & (movies['vote_average']>=7)]"
   ]
  },
  {
   "cell_type": "markdown",
   "id": "9e3fce19-e270-4a16-be3d-a80adb86d905",
   "metadata": {},
   "source": [
    "Keeping only specefic columns for popular_movies dataframe. "
   ]
  },
  {
   "cell_type": "code",
   "execution_count": 90,
   "id": "db09deaa-22d1-439c-a3a3-f641c83e75de",
   "metadata": {},
   "outputs": [],
   "source": [
    "popular_movies = popular_movies[['movie_id','title','genres','popularity','vote_average','overview']]"
   ]
  },
  {
   "cell_type": "code",
   "execution_count": 91,
   "id": "77083a8e-5358-4cd2-963d-9d043b5e1762",
   "metadata": {},
   "outputs": [
    {
     "name": "stdout",
     "output_type": "stream",
     "text": [
      "<class 'pandas.core.frame.DataFrame'>\n",
      "Index: 487 entries, 0 to 4773\n",
      "Data columns (total 6 columns):\n",
      " #   Column        Non-Null Count  Dtype  \n",
      "---  ------        --------------  -----  \n",
      " 0   movie_id      487 non-null    int64  \n",
      " 1   title         487 non-null    object \n",
      " 2   genres        487 non-null    object \n",
      " 3   popularity    487 non-null    float64\n",
      " 4   vote_average  487 non-null    float64\n",
      " 5   overview      487 non-null    object \n",
      "dtypes: float64(2), int64(1), object(3)\n",
      "memory usage: 26.6+ KB\n"
     ]
    }
   ],
   "source": [
    "popular_movies.info()"
   ]
  },
  {
   "cell_type": "markdown",
   "id": "72e35d46-6a84-4696-8bd4-b7f4003441c9",
   "metadata": {},
   "source": [
    "Renaming column 'vote_average' as 'rating'."
   ]
  },
  {
   "cell_type": "code",
   "execution_count": 92,
   "id": "259273a0-ec8c-4463-b281-767352a42cf4",
   "metadata": {},
   "outputs": [],
   "source": [
    "popular_movies.rename(columns = {'vote_average':'rating'}, inplace = True)"
   ]
  },
  {
   "cell_type": "markdown",
   "id": "49571021-e7ff-4d1f-8863-75ed3d8f6563",
   "metadata": {},
   "source": [
    "Now we transformed the 'genres' column to retain only the genre names as a list for each movie."
   ]
  },
  {
   "cell_type": "code",
   "execution_count": 93,
   "id": "305903af-fb63-4697-8c6b-0cbd910a09c5",
   "metadata": {},
   "outputs": [],
   "source": [
    "import json\n",
    "def convert_genre(genre):\n",
    "    genre = json.loads(genre)\n",
    "    l = []\n",
    "    for i in genre:\n",
    "        l.append(i['name'])\n",
    "    return l"
   ]
  },
  {
   "cell_type": "code",
   "execution_count": 94,
   "id": "ffbeedaa-1a33-4eca-8ae2-9693158dd7ac",
   "metadata": {},
   "outputs": [],
   "source": [
    "popular_movies['genres'] = popular_movies['genres'].apply(convert_genre)"
   ]
  },
  {
   "cell_type": "markdown",
   "id": "659f9b07-eefe-4329-9855-e02a29680a2e",
   "metadata": {},
   "source": [
    "Resetting index of our popular_movies dataframe."
   ]
  },
  {
   "cell_type": "code",
   "execution_count": 95,
   "id": "b1bb6bb7-1165-44e4-947d-fa8b29cb9775",
   "metadata": {},
   "outputs": [],
   "source": [
    "popular_movies = popular_movies.reset_index().drop(columns = 'index')"
   ]
  },
  {
   "cell_type": "markdown",
   "id": "2951856b-06de-405c-9677-e377b217cb62",
   "metadata": {},
   "source": [
    "Now, creating a list of different type of genres present in our dataset."
   ]
  },
  {
   "cell_type": "code",
   "execution_count": 96,
   "id": "1681cf95-b3c3-44db-be24-9d11dfb14a1a",
   "metadata": {},
   "outputs": [],
   "source": [
    "l = []\n",
    "for i in range(popular_movies.shape[0]):\n",
    "    for j in popular_movies['genres'].iloc[i]:\n",
    "        l.append(j)\n",
    "s = set(l)\n",
    "l = list(s)\n",
    "list_of_genres = sorted(l)"
   ]
  },
  {
   "cell_type": "code",
   "execution_count": 97,
   "id": "ff2830b1-b2e2-4012-99b8-1740db6969a5",
   "metadata": {},
   "outputs": [
    {
     "name": "stdout",
     "output_type": "stream",
     "text": [
      "['Action', 'Adventure', 'Animation', 'Comedy', 'Crime', 'Drama', 'Family', 'Fantasy', 'History', 'Horror', 'Music', 'Mystery', 'Romance', 'Science Fiction', 'Thriller', 'War', 'Western']\n"
     ]
    }
   ],
   "source": [
    "print(list_of_genres)"
   ]
  },
  {
   "cell_type": "markdown",
   "id": "16277d59-c134-477c-b2ec-504c2d7fb039",
   "metadata": {},
   "source": [
    "Now, creating a function that prompts the user to specify two genres and then retrieves the top 5 most popular movies that belong to both of those genres."
   ]
  },
  {
   "cell_type": "code",
   "execution_count": 98,
   "id": "d6df7ebc-b527-4300-bc73-943741efda7b",
   "metadata": {},
   "outputs": [],
   "source": [
    "l = []\n",
    "def recommend(genre1, genre2):\n",
    "    for i in range(popular_movies.shape[0]):\n",
    "        if (genre1 in popular_movies['genres'].iloc[i]) and (genre2 in popular_movies['genres'].iloc[i]):\n",
    "            l.append(i)\n",
    "    df = popular_movies.iloc[l]\n",
    "    df = df.sort_values('popularity', ascending = False)\n",
    "    df = df.reset_index()\n",
    "    for i in range(5):\n",
    "        print(df['title'].iloc[i])"
   ]
  },
  {
   "cell_type": "code",
   "execution_count": 99,
   "id": "1c5ca5c7-74f3-40ba-b656-86f6281506a4",
   "metadata": {},
   "outputs": [
    {
     "name": "stdout",
     "output_type": "stream",
     "text": [
      "Big Hero 6\n",
      "Despicable Me 2\n",
      "Inside Out\n",
      "Monsters, Inc.\n",
      "How to Train Your Dragon 2\n"
     ]
    }
   ],
   "source": [
    "recommend('Comedy','Animation')"
   ]
  },
  {
   "cell_type": "markdown",
   "id": "77e888ef-0938-4e29-bd0a-45cc16a54a0d",
   "metadata": {
    "jp-MarkdownHeadingCollapsed": true
   },
   "source": [
    "#### CONTENT BASED MODEL"
   ]
  },
  {
   "cell_type": "markdown",
   "id": "a1db8f5d-4e99-4953-8afc-a34a1656c800",
   "metadata": {},
   "source": [
    "Under content-based filtering, we will merge datasets based on 'movie_id', create a consolidated 'tags' feature from genres, keywords, overviews, cast, and director information. We'll use CountVectorizer to transform 'tags' into a numeric representation, apply cosine similarity to measure movie similarities, and recommend the top 5 movies most closely related to the user's input."
   ]
  },
  {
   "cell_type": "markdown",
   "id": "66d82e6a-6418-4b6a-84e9-82a2932424b3",
   "metadata": {},
   "source": [
    "Merging both the datasets on the basis of common column present i.e. 'movie_id' column."
   ]
  },
  {
   "cell_type": "code",
   "execution_count": 100,
   "id": "ee9f282a-f233-4970-b9eb-527c36c2f1ff",
   "metadata": {},
   "outputs": [],
   "source": [
    "new_movies = movies.merge(credits, on = 'movie_id')"
   ]
  },
  {
   "cell_type": "code",
   "execution_count": 101,
   "id": "ee63167b-e372-49bd-a35d-39fe63532c0e",
   "metadata": {},
   "outputs": [
    {
     "data": {
      "text/html": [
       "<div>\n",
       "<style scoped>\n",
       "    .dataframe tbody tr th:only-of-type {\n",
       "        vertical-align: middle;\n",
       "    }\n",
       "\n",
       "    .dataframe tbody tr th {\n",
       "        vertical-align: top;\n",
       "    }\n",
       "\n",
       "    .dataframe thead th {\n",
       "        text-align: right;\n",
       "    }\n",
       "</style>\n",
       "<table border=\"1\" class=\"dataframe\">\n",
       "  <thead>\n",
       "    <tr style=\"text-align: right;\">\n",
       "      <th></th>\n",
       "      <th>budget</th>\n",
       "      <th>genres</th>\n",
       "      <th>homepage</th>\n",
       "      <th>movie_id</th>\n",
       "      <th>keywords</th>\n",
       "      <th>original_language</th>\n",
       "      <th>original_title</th>\n",
       "      <th>overview</th>\n",
       "      <th>popularity</th>\n",
       "      <th>production_companies</th>\n",
       "      <th>...</th>\n",
       "      <th>runtime</th>\n",
       "      <th>spoken_languages</th>\n",
       "      <th>status</th>\n",
       "      <th>tagline</th>\n",
       "      <th>title_x</th>\n",
       "      <th>vote_average</th>\n",
       "      <th>vote_count</th>\n",
       "      <th>title_y</th>\n",
       "      <th>cast</th>\n",
       "      <th>crew</th>\n",
       "    </tr>\n",
       "  </thead>\n",
       "  <tbody>\n",
       "    <tr>\n",
       "      <th>0</th>\n",
       "      <td>237000000</td>\n",
       "      <td>[{\"id\": 28, \"name\": \"Action\"}, {\"id\": 12, \"nam...</td>\n",
       "      <td>http://www.avatarmovie.com/</td>\n",
       "      <td>19995</td>\n",
       "      <td>[{\"id\": 1463, \"name\": \"culture clash\"}, {\"id\":...</td>\n",
       "      <td>en</td>\n",
       "      <td>Avatar</td>\n",
       "      <td>In the 22nd century, a paraplegic Marine is di...</td>\n",
       "      <td>150.437577</td>\n",
       "      <td>[{\"name\": \"Ingenious Film Partners\", \"id\": 289...</td>\n",
       "      <td>...</td>\n",
       "      <td>162.0</td>\n",
       "      <td>[{\"iso_639_1\": \"en\", \"name\": \"English\"}, {\"iso...</td>\n",
       "      <td>Released</td>\n",
       "      <td>Enter the World of Pandora.</td>\n",
       "      <td>Avatar</td>\n",
       "      <td>7.2</td>\n",
       "      <td>11800</td>\n",
       "      <td>Avatar</td>\n",
       "      <td>[{\"cast_id\": 242, \"character\": \"Jake Sully\", \"...</td>\n",
       "      <td>[{\"credit_id\": \"52fe48009251416c750aca23\", \"de...</td>\n",
       "    </tr>\n",
       "    <tr>\n",
       "      <th>1</th>\n",
       "      <td>300000000</td>\n",
       "      <td>[{\"id\": 12, \"name\": \"Adventure\"}, {\"id\": 14, \"...</td>\n",
       "      <td>http://disney.go.com/disneypictures/pirates/</td>\n",
       "      <td>285</td>\n",
       "      <td>[{\"id\": 270, \"name\": \"ocean\"}, {\"id\": 726, \"na...</td>\n",
       "      <td>en</td>\n",
       "      <td>Pirates of the Caribbean: At World's End</td>\n",
       "      <td>Captain Barbossa, long believed to be dead, ha...</td>\n",
       "      <td>139.082615</td>\n",
       "      <td>[{\"name\": \"Walt Disney Pictures\", \"id\": 2}, {\"...</td>\n",
       "      <td>...</td>\n",
       "      <td>169.0</td>\n",
       "      <td>[{\"iso_639_1\": \"en\", \"name\": \"English\"}]</td>\n",
       "      <td>Released</td>\n",
       "      <td>At the end of the world, the adventure begins.</td>\n",
       "      <td>Pirates of the Caribbean: At World's End</td>\n",
       "      <td>6.9</td>\n",
       "      <td>4500</td>\n",
       "      <td>Pirates of the Caribbean: At World's End</td>\n",
       "      <td>[{\"cast_id\": 4, \"character\": \"Captain Jack Spa...</td>\n",
       "      <td>[{\"credit_id\": \"52fe4232c3a36847f800b579\", \"de...</td>\n",
       "    </tr>\n",
       "  </tbody>\n",
       "</table>\n",
       "<p>2 rows × 23 columns</p>\n",
       "</div>"
      ],
      "text/plain": [
       "      budget                                             genres  \\\n",
       "0  237000000  [{\"id\": 28, \"name\": \"Action\"}, {\"id\": 12, \"nam...   \n",
       "1  300000000  [{\"id\": 12, \"name\": \"Adventure\"}, {\"id\": 14, \"...   \n",
       "\n",
       "                                       homepage  movie_id  \\\n",
       "0                   http://www.avatarmovie.com/     19995   \n",
       "1  http://disney.go.com/disneypictures/pirates/       285   \n",
       "\n",
       "                                            keywords original_language  \\\n",
       "0  [{\"id\": 1463, \"name\": \"culture clash\"}, {\"id\":...                en   \n",
       "1  [{\"id\": 270, \"name\": \"ocean\"}, {\"id\": 726, \"na...                en   \n",
       "\n",
       "                             original_title  \\\n",
       "0                                    Avatar   \n",
       "1  Pirates of the Caribbean: At World's End   \n",
       "\n",
       "                                            overview  popularity  \\\n",
       "0  In the 22nd century, a paraplegic Marine is di...  150.437577   \n",
       "1  Captain Barbossa, long believed to be dead, ha...  139.082615   \n",
       "\n",
       "                                production_companies  ... runtime  \\\n",
       "0  [{\"name\": \"Ingenious Film Partners\", \"id\": 289...  ...   162.0   \n",
       "1  [{\"name\": \"Walt Disney Pictures\", \"id\": 2}, {\"...  ...   169.0   \n",
       "\n",
       "                                    spoken_languages    status  \\\n",
       "0  [{\"iso_639_1\": \"en\", \"name\": \"English\"}, {\"iso...  Released   \n",
       "1           [{\"iso_639_1\": \"en\", \"name\": \"English\"}]  Released   \n",
       "\n",
       "                                          tagline  \\\n",
       "0                     Enter the World of Pandora.   \n",
       "1  At the end of the world, the adventure begins.   \n",
       "\n",
       "                                    title_x vote_average vote_count  \\\n",
       "0                                    Avatar          7.2      11800   \n",
       "1  Pirates of the Caribbean: At World's End          6.9       4500   \n",
       "\n",
       "                                    title_y  \\\n",
       "0                                    Avatar   \n",
       "1  Pirates of the Caribbean: At World's End   \n",
       "\n",
       "                                                cast  \\\n",
       "0  [{\"cast_id\": 242, \"character\": \"Jake Sully\", \"...   \n",
       "1  [{\"cast_id\": 4, \"character\": \"Captain Jack Spa...   \n",
       "\n",
       "                                                crew  \n",
       "0  [{\"credit_id\": \"52fe48009251416c750aca23\", \"de...  \n",
       "1  [{\"credit_id\": \"52fe4232c3a36847f800b579\", \"de...  \n",
       "\n",
       "[2 rows x 23 columns]"
      ]
     },
     "execution_count": 101,
     "metadata": {},
     "output_type": "execute_result"
    }
   ],
   "source": [
    "new_movies.head(2)"
   ]
  },
  {
   "cell_type": "code",
   "execution_count": 102,
   "id": "ab1fb82f-7e77-4dcd-8c0a-54bb746eef34",
   "metadata": {},
   "outputs": [
    {
     "name": "stdout",
     "output_type": "stream",
     "text": [
      "<class 'pandas.core.frame.DataFrame'>\n",
      "RangeIndex: 4803 entries, 0 to 4802\n",
      "Data columns (total 23 columns):\n",
      " #   Column                Non-Null Count  Dtype  \n",
      "---  ------                --------------  -----  \n",
      " 0   budget                4803 non-null   int64  \n",
      " 1   genres                4803 non-null   object \n",
      " 2   homepage              1712 non-null   object \n",
      " 3   movie_id              4803 non-null   int64  \n",
      " 4   keywords              4803 non-null   object \n",
      " 5   original_language     4803 non-null   object \n",
      " 6   original_title        4803 non-null   object \n",
      " 7   overview              4800 non-null   object \n",
      " 8   popularity            4803 non-null   float64\n",
      " 9   production_companies  4803 non-null   object \n",
      " 10  production_countries  4803 non-null   object \n",
      " 11  release_date          4802 non-null   object \n",
      " 12  revenue               4803 non-null   int64  \n",
      " 13  runtime               4801 non-null   float64\n",
      " 14  spoken_languages      4803 non-null   object \n",
      " 15  status                4803 non-null   object \n",
      " 16  tagline               3959 non-null   object \n",
      " 17  title_x               4803 non-null   object \n",
      " 18  vote_average          4803 non-null   float64\n",
      " 19  vote_count            4803 non-null   int64  \n",
      " 20  title_y               4803 non-null   object \n",
      " 21  cast                  4803 non-null   object \n",
      " 22  crew                  4803 non-null   object \n",
      "dtypes: float64(3), int64(4), object(16)\n",
      "memory usage: 863.2+ KB\n"
     ]
    }
   ],
   "source": [
    "new_movies.info()"
   ]
  },
  {
   "cell_type": "markdown",
   "id": "a78b6107-9f16-43d4-8ba9-a1c32af26f5a",
   "metadata": {},
   "source": [
    "Keeping only specefic columns of new_movies dataset that can help us filter movies on the basis of content."
   ]
  },
  {
   "cell_type": "code",
   "execution_count": 103,
   "id": "8234a820-c8bb-47f4-8f3b-5aee2383e8e3",
   "metadata": {},
   "outputs": [],
   "source": [
    "new_movies = new_movies[['movie_id', 'title_x','genres','keywords','overview','cast', 'crew']]"
   ]
  },
  {
   "cell_type": "code",
   "execution_count": 104,
   "id": "eef3818f-57ab-4fdb-a931-70c7d18c2dc4",
   "metadata": {},
   "outputs": [
    {
     "name": "stdout",
     "output_type": "stream",
     "text": [
      "<class 'pandas.core.frame.DataFrame'>\n",
      "RangeIndex: 4803 entries, 0 to 4802\n",
      "Data columns (total 7 columns):\n",
      " #   Column    Non-Null Count  Dtype \n",
      "---  ------    --------------  ----- \n",
      " 0   movie_id  4803 non-null   int64 \n",
      " 1   title_x   4803 non-null   object\n",
      " 2   genres    4803 non-null   object\n",
      " 3   keywords  4803 non-null   object\n",
      " 4   overview  4800 non-null   object\n",
      " 5   cast      4803 non-null   object\n",
      " 6   crew      4803 non-null   object\n",
      "dtypes: int64(1), object(6)\n",
      "memory usage: 262.8+ KB\n"
     ]
    }
   ],
   "source": [
    "new_movies.info()"
   ]
  },
  {
   "cell_type": "markdown",
   "id": "35b590c0-e3d2-4c56-8e6d-15421b3aba3f",
   "metadata": {},
   "source": [
    "Handling null values present in 'overview' column and then dropping them."
   ]
  },
  {
   "cell_type": "code",
   "execution_count": 105,
   "id": "4e0cd1e0-200b-4bf2-aa9d-6c99ea9ac748",
   "metadata": {},
   "outputs": [
    {
     "data": {
      "text/html": [
       "<div>\n",
       "<style scoped>\n",
       "    .dataframe tbody tr th:only-of-type {\n",
       "        vertical-align: middle;\n",
       "    }\n",
       "\n",
       "    .dataframe tbody tr th {\n",
       "        vertical-align: top;\n",
       "    }\n",
       "\n",
       "    .dataframe thead th {\n",
       "        text-align: right;\n",
       "    }\n",
       "</style>\n",
       "<table border=\"1\" class=\"dataframe\">\n",
       "  <thead>\n",
       "    <tr style=\"text-align: right;\">\n",
       "      <th></th>\n",
       "      <th>movie_id</th>\n",
       "      <th>title_x</th>\n",
       "      <th>genres</th>\n",
       "      <th>keywords</th>\n",
       "      <th>overview</th>\n",
       "      <th>cast</th>\n",
       "      <th>crew</th>\n",
       "    </tr>\n",
       "  </thead>\n",
       "  <tbody>\n",
       "    <tr>\n",
       "      <th>2656</th>\n",
       "      <td>370980</td>\n",
       "      <td>Chiamatemi Francesco - Il Papa della gente</td>\n",
       "      <td>[{\"id\": 18, \"name\": \"Drama\"}]</td>\n",
       "      <td>[{\"id\": 717, \"name\": \"pope\"}, {\"id\": 5565, \"na...</td>\n",
       "      <td>NaN</td>\n",
       "      <td>[{\"cast_id\": 5, \"character\": \"Jorge Mario Berg...</td>\n",
       "      <td>[{\"credit_id\": \"5660019ac3a36875f100252b\", \"de...</td>\n",
       "    </tr>\n",
       "    <tr>\n",
       "      <th>4140</th>\n",
       "      <td>459488</td>\n",
       "      <td>To Be Frank, Sinatra at 100</td>\n",
       "      <td>[{\"id\": 99, \"name\": \"Documentary\"}]</td>\n",
       "      <td>[{\"id\": 6027, \"name\": \"music\"}, {\"id\": 225822,...</td>\n",
       "      <td>NaN</td>\n",
       "      <td>[{\"cast_id\": 0, \"character\": \"Narrator\", \"cred...</td>\n",
       "      <td>[{\"credit_id\": \"592b25e4c3a368783e065a2f\", \"de...</td>\n",
       "    </tr>\n",
       "    <tr>\n",
       "      <th>4431</th>\n",
       "      <td>292539</td>\n",
       "      <td>Food Chains</td>\n",
       "      <td>[{\"id\": 99, \"name\": \"Documentary\"}]</td>\n",
       "      <td>[]</td>\n",
       "      <td>NaN</td>\n",
       "      <td>[]</td>\n",
       "      <td>[{\"credit_id\": \"5470c3b1c3a368085e000abd\", \"de...</td>\n",
       "    </tr>\n",
       "  </tbody>\n",
       "</table>\n",
       "</div>"
      ],
      "text/plain": [
       "      movie_id                                     title_x  \\\n",
       "2656    370980  Chiamatemi Francesco - Il Papa della gente   \n",
       "4140    459488                 To Be Frank, Sinatra at 100   \n",
       "4431    292539                                 Food Chains   \n",
       "\n",
       "                                   genres  \\\n",
       "2656        [{\"id\": 18, \"name\": \"Drama\"}]   \n",
       "4140  [{\"id\": 99, \"name\": \"Documentary\"}]   \n",
       "4431  [{\"id\": 99, \"name\": \"Documentary\"}]   \n",
       "\n",
       "                                               keywords overview  \\\n",
       "2656  [{\"id\": 717, \"name\": \"pope\"}, {\"id\": 5565, \"na...      NaN   \n",
       "4140  [{\"id\": 6027, \"name\": \"music\"}, {\"id\": 225822,...      NaN   \n",
       "4431                                                 []      NaN   \n",
       "\n",
       "                                                   cast  \\\n",
       "2656  [{\"cast_id\": 5, \"character\": \"Jorge Mario Berg...   \n",
       "4140  [{\"cast_id\": 0, \"character\": \"Narrator\", \"cred...   \n",
       "4431                                                 []   \n",
       "\n",
       "                                                   crew  \n",
       "2656  [{\"credit_id\": \"5660019ac3a36875f100252b\", \"de...  \n",
       "4140  [{\"credit_id\": \"592b25e4c3a368783e065a2f\", \"de...  \n",
       "4431  [{\"credit_id\": \"5470c3b1c3a368085e000abd\", \"de...  "
      ]
     },
     "execution_count": 105,
     "metadata": {},
     "output_type": "execute_result"
    }
   ],
   "source": [
    "new_movies[new_movies['overview'].isnull()]"
   ]
  },
  {
   "cell_type": "code",
   "execution_count": 106,
   "id": "292eae86-8cb6-4c52-a986-7cde6ffb92ee",
   "metadata": {},
   "outputs": [],
   "source": [
    "new_movies = new_movies[~new_movies['overview'].isnull()]"
   ]
  },
  {
   "cell_type": "markdown",
   "id": "e3ceb71d-3f82-4aee-bde9-f58e934d1c17",
   "metadata": {},
   "source": [
    "Renaming 'title_x' column as 'title'."
   ]
  },
  {
   "cell_type": "code",
   "execution_count": 107,
   "id": "134ff311-1af8-4adc-897c-dcc582e5e23c",
   "metadata": {},
   "outputs": [],
   "source": [
    "new_movies.rename(columns = {'title_x':'title'}, inplace = True)"
   ]
  },
  {
   "cell_type": "markdown",
   "id": "b4f99a75-b22e-41b2-b384-73c6fa145f17",
   "metadata": {},
   "source": [
    "Resetting index."
   ]
  },
  {
   "cell_type": "code",
   "execution_count": 108,
   "id": "5fb259e2-171a-45cb-b731-2b09d35e2a8d",
   "metadata": {},
   "outputs": [],
   "source": [
    "new_movies = new_movies.reset_index()"
   ]
  },
  {
   "cell_type": "code",
   "execution_count": 109,
   "id": "de92d1ad-782b-465b-8bc4-37a6198504c0",
   "metadata": {},
   "outputs": [],
   "source": [
    "new_movies.drop(columns = 'index', inplace = True)"
   ]
  },
  {
   "cell_type": "markdown",
   "id": "411d6e76-af03-4c43-be3e-2d70a050da22",
   "metadata": {},
   "source": [
    "Checking if there any duplicates present."
   ]
  },
  {
   "cell_type": "code",
   "execution_count": 110,
   "id": "4f5b8d52-9340-49b3-baea-e731bbae28d5",
   "metadata": {},
   "outputs": [
    {
     "data": {
      "text/plain": [
       "0"
      ]
     },
     "execution_count": 110,
     "metadata": {},
     "output_type": "execute_result"
    }
   ],
   "source": [
    "new_movies.duplicated().sum()"
   ]
  },
  {
   "cell_type": "markdown",
   "id": "8f514150-774a-44a0-a22c-cbf7b5bbb52d",
   "metadata": {},
   "source": [
    "Now we transformed the 'genres' column to retain only the genre names as a list for each movie."
   ]
  },
  {
   "cell_type": "code",
   "execution_count": 111,
   "id": "a2e29fd4-4464-4567-b0f1-4ca81116c099",
   "metadata": {},
   "outputs": [
    {
     "data": {
      "text/plain": [
       "'[{\"id\": 28, \"name\": \"Action\"}, {\"id\": 12, \"name\": \"Adventure\"}, {\"id\": 14, \"name\": \"Fantasy\"}, {\"id\": 878, \"name\": \"Science Fiction\"}]'"
      ]
     },
     "execution_count": 111,
     "metadata": {},
     "output_type": "execute_result"
    }
   ],
   "source": [
    "new_movies['genres'][0]"
   ]
  },
  {
   "cell_type": "code",
   "execution_count": 112,
   "id": "5e35ebba-e000-4196-b817-997cad8f7cbd",
   "metadata": {},
   "outputs": [],
   "source": [
    "import json\n",
    "def convert_genre(genre):\n",
    "    genre = json.loads(genre)\n",
    "    l = []\n",
    "    for i in genre:\n",
    "        l.append(i['name'])\n",
    "    for i in range(len(l)):\n",
    "        l[i] = l[i].lower().replace(' ','')\n",
    "    return l"
   ]
  },
  {
   "cell_type": "code",
   "execution_count": 113,
   "id": "290ce80f-32e6-448e-8124-001cb432bee0",
   "metadata": {},
   "outputs": [],
   "source": [
    "new_movies['genres'] = new_movies['genres'].apply(convert_genre)"
   ]
  },
  {
   "cell_type": "markdown",
   "id": "5c8c448b-5856-4141-9445-1a742f94267a",
   "metadata": {},
   "source": [
    "Now we transformed the 'keywords' column to retain only the keywords as a list for each movie."
   ]
  },
  {
   "cell_type": "code",
   "execution_count": 114,
   "id": "e4ee472f-e521-4245-b0c8-1b644cadb12d",
   "metadata": {},
   "outputs": [
    {
     "data": {
      "text/plain": [
       "0       [{\"id\": 1463, \"name\": \"culture clash\"}, {\"id\":...\n",
       "1       [{\"id\": 270, \"name\": \"ocean\"}, {\"id\": 726, \"na...\n",
       "2       [{\"id\": 470, \"name\": \"spy\"}, {\"id\": 818, \"name...\n",
       "3       [{\"id\": 849, \"name\": \"dc comics\"}, {\"id\": 853,...\n",
       "4       [{\"id\": 818, \"name\": \"based on novel\"}, {\"id\":...\n",
       "                              ...                        \n",
       "4795    [{\"id\": 5616, \"name\": \"united states\\u2013mexi...\n",
       "4796                                                   []\n",
       "4797    [{\"id\": 248, \"name\": \"date\"}, {\"id\": 699, \"nam...\n",
       "4798                                                   []\n",
       "4799    [{\"id\": 1523, \"name\": \"obsession\"}, {\"id\": 224...\n",
       "Name: keywords, Length: 4800, dtype: object"
      ]
     },
     "execution_count": 114,
     "metadata": {},
     "output_type": "execute_result"
    }
   ],
   "source": [
    "new_movies['keywords']"
   ]
  },
  {
   "cell_type": "code",
   "execution_count": 115,
   "id": "a6a74adf-652c-4099-bb86-423bc2bd1514",
   "metadata": {},
   "outputs": [],
   "source": [
    "import json\n",
    "def convert_keyword(keyword):\n",
    "    keyword = json.loads(keyword)\n",
    "    l = []\n",
    "    for i in keyword:\n",
    "        l.append(i['name'])\n",
    "    for i in range(len(l)):\n",
    "        l[i] = l[i].lower().replace(' ','')\n",
    "    return l"
   ]
  },
  {
   "cell_type": "code",
   "execution_count": 116,
   "id": "9043e7b2-1dc3-4f55-845b-603081af895c",
   "metadata": {},
   "outputs": [],
   "source": [
    "new_movies['keywords'] = new_movies['keywords'].apply(convert_keyword)"
   ]
  },
  {
   "cell_type": "markdown",
   "id": "65040a4c-13c4-4b73-9b9e-3e4e1be9df16",
   "metadata": {},
   "source": [
    "Now we transformed the 'cast' column to retain only the top 3 cast names as a list for each movie."
   ]
  },
  {
   "cell_type": "code",
   "execution_count": 117,
   "id": "38e3c1c9-9246-41e7-b4b5-754b07ad33a0",
   "metadata": {},
   "outputs": [
    {
     "data": {
      "text/plain": [
       "0       [{\"cast_id\": 242, \"character\": \"Jake Sully\", \"...\n",
       "1       [{\"cast_id\": 4, \"character\": \"Captain Jack Spa...\n",
       "2       [{\"cast_id\": 1, \"character\": \"James Bond\", \"cr...\n",
       "3       [{\"cast_id\": 2, \"character\": \"Bruce Wayne / Ba...\n",
       "4       [{\"cast_id\": 5, \"character\": \"John Carter\", \"c...\n",
       "                              ...                        \n",
       "4795    [{\"cast_id\": 1, \"character\": \"El Mariachi\", \"c...\n",
       "4796    [{\"cast_id\": 1, \"character\": \"Buzzy\", \"credit_...\n",
       "4797    [{\"cast_id\": 8, \"character\": \"Oliver O\\u2019To...\n",
       "4798    [{\"cast_id\": 3, \"character\": \"Sam\", \"credit_id...\n",
       "4799    [{\"cast_id\": 3, \"character\": \"Herself\", \"credi...\n",
       "Name: cast, Length: 4800, dtype: object"
      ]
     },
     "execution_count": 117,
     "metadata": {},
     "output_type": "execute_result"
    }
   ],
   "source": [
    "new_movies['cast']"
   ]
  },
  {
   "cell_type": "code",
   "execution_count": 118,
   "id": "d272f95b-6139-4ce9-9fc1-bc94fade690a",
   "metadata": {},
   "outputs": [],
   "source": [
    "def convert_cast(cast):\n",
    "    cast = json.loads(cast)\n",
    "    l = []\n",
    "    for i in cast:\n",
    "        l.append(i['name'])\n",
    "        if len(l) == 3:\n",
    "            break\n",
    "    for i in range(len(l)):\n",
    "        l[i] = l[i].lower().replace(' ','')\n",
    "    return l"
   ]
  },
  {
   "cell_type": "code",
   "execution_count": 119,
   "id": "049c373b-b40a-4e69-81c3-72e5a8c9c3e6",
   "metadata": {},
   "outputs": [],
   "source": [
    "new_movies['cast'] = new_movies['cast'].apply(convert_cast)"
   ]
  },
  {
   "cell_type": "markdown",
   "id": "20e3de1a-e487-4425-9577-f0b295cd45a6",
   "metadata": {},
   "source": [
    "Now we transformed the 'crew' column to retain only the director name as a list for each movie."
   ]
  },
  {
   "cell_type": "code",
   "execution_count": 120,
   "id": "100d79c0-472e-4fa9-8d48-8279edf3b804",
   "metadata": {},
   "outputs": [
    {
     "data": {
      "text/plain": [
       "0       [{\"credit_id\": \"52fe48009251416c750aca23\", \"de...\n",
       "1       [{\"credit_id\": \"52fe4232c3a36847f800b579\", \"de...\n",
       "2       [{\"credit_id\": \"54805967c3a36829b5002c41\", \"de...\n",
       "3       [{\"credit_id\": \"52fe4781c3a36847f81398c3\", \"de...\n",
       "4       [{\"credit_id\": \"52fe479ac3a36847f813eaa3\", \"de...\n",
       "                              ...                        \n",
       "4795    [{\"credit_id\": \"52fe44eec3a36847f80b280b\", \"de...\n",
       "4796    [{\"credit_id\": \"52fe487dc3a368484e0fb013\", \"de...\n",
       "4797    [{\"credit_id\": \"52fe4df3c3a36847f8275ecf\", \"de...\n",
       "4798    [{\"credit_id\": \"52fe4ad9c3a368484e16a36b\", \"de...\n",
       "4799    [{\"credit_id\": \"58ce021b9251415a390165d9\", \"de...\n",
       "Name: crew, Length: 4800, dtype: object"
      ]
     },
     "execution_count": 120,
     "metadata": {},
     "output_type": "execute_result"
    }
   ],
   "source": [
    "new_movies['crew']"
   ]
  },
  {
   "cell_type": "code",
   "execution_count": 121,
   "id": "d93f26d5-c4b0-49e4-804a-bfe7008c603b",
   "metadata": {},
   "outputs": [],
   "source": [
    "def convert_crew(crew):\n",
    "    crew = json.loads(crew)\n",
    "    l = []\n",
    "    for i in crew:\n",
    "        if i['job'] == 'Director':\n",
    "            l.append(i['name'])\n",
    "    for i in range(len(l)):\n",
    "        l[i] = l[i].lower().replace(' ','')\n",
    "    return l"
   ]
  },
  {
   "cell_type": "code",
   "execution_count": 122,
   "id": "854cd47e-217a-4925-b5d6-b8c6ba3ec58b",
   "metadata": {},
   "outputs": [],
   "source": [
    "new_movies['crew'] = new_movies['crew'].apply(convert_crew)"
   ]
  },
  {
   "cell_type": "markdown",
   "id": "89e6c1df-4658-4c03-b291-cee3ef574cf3",
   "metadata": {},
   "source": [
    "Renaming 'crew' column as 'director' since we have retained only director name from the crew of each movie."
   ]
  },
  {
   "cell_type": "code",
   "execution_count": 123,
   "id": "b6ad499a-e949-4886-a456-3e72e2196e6d",
   "metadata": {},
   "outputs": [],
   "source": [
    "new_movies.rename(columns = {'crew':'director'}, inplace = True)"
   ]
  },
  {
   "cell_type": "markdown",
   "id": "9304c32a-494b-4434-8720-59219de94013",
   "metadata": {},
   "source": [
    "Converting overview of each movie into a list of individual words."
   ]
  },
  {
   "cell_type": "code",
   "execution_count": 124,
   "id": "a3a06154-44e1-4305-9e4e-49a65f2c0b62",
   "metadata": {},
   "outputs": [],
   "source": [
    "new_movies['overview'] = new_movies['overview'].str.lower().str.split(' ')"
   ]
  },
  {
   "cell_type": "markdown",
   "id": "e6fd02be-0534-444f-96b8-ce356e62eab7",
   "metadata": {},
   "source": [
    "We created a new column 'tags' by combining genres, keywords, overviews, cast, and director information for each movie to facilitate content-based recommendations."
   ]
  },
  {
   "cell_type": "code",
   "execution_count": 125,
   "id": "52cb5370-0273-4d7e-839e-5fbb85442174",
   "metadata": {},
   "outputs": [],
   "source": [
    "new_movies['tags'] = new_movies['genres'] + new_movies['keywords'] + new_movies['overview'] + new_movies['cast'] + new_movies['director']"
   ]
  },
  {
   "cell_type": "markdown",
   "id": "9ab8154e-20f8-421e-932b-7997951f5a1b",
   "metadata": {},
   "source": [
    "Converting list of tags for each movie into a string."
   ]
  },
  {
   "cell_type": "code",
   "execution_count": 126,
   "id": "503b5dec-6bd7-4f6d-808a-7f8800ccc94e",
   "metadata": {},
   "outputs": [],
   "source": [
    "def convert_tag(tag):\n",
    "    tag = ' '.join(tag)\n",
    "    return tag"
   ]
  },
  {
   "cell_type": "code",
   "execution_count": 127,
   "id": "f893979e-48ba-4f61-8d67-98f4bbc8b999",
   "metadata": {},
   "outputs": [],
   "source": [
    "new_movies['tags'] = new_movies['tags'].apply(convert_tag)"
   ]
  },
  {
   "cell_type": "markdown",
   "id": "84a0f465-7851-4b46-aaca-a6b404e47576",
   "metadata": {},
   "source": [
    "Keeping only columns 'movie_id', 'title', and 'tags' for content based filtering."
   ]
  },
  {
   "cell_type": "code",
   "execution_count": 128,
   "id": "fd8bfa1c-e48d-49b8-ae96-691967ec4200",
   "metadata": {},
   "outputs": [],
   "source": [
    "new_movies = new_movies[['movie_id', 'title', 'tags']]"
   ]
  },
  {
   "cell_type": "code",
   "execution_count": 129,
   "id": "1f74e306-5f43-42be-9e80-d81011e1174b",
   "metadata": {},
   "outputs": [
    {
     "name": "stdout",
     "output_type": "stream",
     "text": [
      "<class 'pandas.core.frame.DataFrame'>\n",
      "RangeIndex: 4800 entries, 0 to 4799\n",
      "Data columns (total 3 columns):\n",
      " #   Column    Non-Null Count  Dtype \n",
      "---  ------    --------------  ----- \n",
      " 0   movie_id  4800 non-null   int64 \n",
      " 1   title     4800 non-null   object\n",
      " 2   tags      4800 non-null   object\n",
      "dtypes: int64(1), object(2)\n",
      "memory usage: 112.6+ KB\n"
     ]
    }
   ],
   "source": [
    "new_movies.info()"
   ]
  },
  {
   "cell_type": "markdown",
   "id": "1306a334-bcc6-40ee-96ae-7c9cd9031152",
   "metadata": {},
   "source": [
    "We will now imports the CountVectorizer class from scikit-learn, which is used for converting a collection of text documents into a matrix of token counts."
   ]
  },
  {
   "cell_type": "code",
   "execution_count": 130,
   "id": "a5bf97ff-b751-40ef-b7a9-c32cf03af1bf",
   "metadata": {},
   "outputs": [],
   "source": [
    "from sklearn.feature_extraction.text import CountVectorizer"
   ]
  },
  {
   "cell_type": "markdown",
   "id": "f7b45781-77e4-4689-b1bd-1b6be9af0095",
   "metadata": {},
   "source": [
    "1. 'max_features=5000' specifies that only the top 5000 most frequent words (features) from the 'tags' data will be used.\n",
    "2. stop_words='english' removes common English words (like 'a', 'an', 'the', etc.) from the 'tags' data. These words are often not useful for modeling since they appear frequently and don't carry much specific meaning."
   ]
  },
  {
   "cell_type": "code",
   "execution_count": 131,
   "id": "01517b17-ec82-4232-be58-ee5b6f8c6058",
   "metadata": {},
   "outputs": [],
   "source": [
    "cv = CountVectorizer(max_features=5000,stop_words='english')"
   ]
  },
  {
   "cell_type": "markdown",
   "id": "923f8889-a51d-46e9-b640-39e08b8a69d5",
   "metadata": {},
   "source": [
    "1. Now we will fit the CountVectorizer to the 'tags' data in movies which transforms it into a sparse matrix representation where rows correspond to movies and columns correspond to words.\n",
    "2. .toarray() converts the sparse matrix representation returned by fit_transform into a dense NumPy array (vector), where each element represents the count of a specific word for each movie."
   ]
  },
  {
   "cell_type": "code",
   "execution_count": 132,
   "id": "3bb43673-53b4-40bb-801f-1ab1fed2fd9d",
   "metadata": {},
   "outputs": [],
   "source": [
    "vector = cv.fit_transform(new_movies['tags']).toarray()"
   ]
  },
  {
   "cell_type": "markdown",
   "id": "d4913840-181c-4cc7-bc2a-b9938e075906",
   "metadata": {},
   "source": [
    "shape[0] represents number of movies and shape[1] represents the 5000 words which have maximum frequency in the 'tags' data."
   ]
  },
  {
   "cell_type": "code",
   "execution_count": 133,
   "id": "d7c2821a-7a66-4092-af20-b9b92f653256",
   "metadata": {},
   "outputs": [
    {
     "data": {
      "text/plain": [
       "array([[0, 0, 0, ..., 0, 0, 0],\n",
       "       [0, 0, 0, ..., 0, 0, 0],\n",
       "       [0, 0, 0, ..., 0, 0, 0],\n",
       "       ...,\n",
       "       [0, 0, 0, ..., 0, 0, 0],\n",
       "       [0, 0, 0, ..., 0, 0, 0],\n",
       "       [0, 0, 0, ..., 0, 0, 0]], dtype=int64)"
      ]
     },
     "execution_count": 133,
     "metadata": {},
     "output_type": "execute_result"
    }
   ],
   "source": [
    "vector"
   ]
  },
  {
   "cell_type": "code",
   "execution_count": 134,
   "id": "66aaf1f1-5be1-4537-bf6d-4b58f9d44fe2",
   "metadata": {},
   "outputs": [
    {
     "data": {
      "text/plain": [
       "(4800, 5000)"
      ]
     },
     "execution_count": 134,
     "metadata": {},
     "output_type": "execute_result"
    }
   ],
   "source": [
    "vector.shape"
   ]
  },
  {
   "cell_type": "markdown",
   "id": "0751c7f4-212c-4f01-afee-cf8b67f9e173",
   "metadata": {},
   "source": [
    "Now we will calculate cosine similarity which is a measure that calculates the cosine of the angle between two vectors, often used to determine similarity between items in a recommendation system. In our case, it computes the cosine similarity between the rows of vector array, where each row corresponds to a movie."
   ]
  },
  {
   "cell_type": "code",
   "execution_count": 135,
   "id": "146808ed-c9a5-4aad-8bae-9727c58266f4",
   "metadata": {},
   "outputs": [],
   "source": [
    "from sklearn.metrics.pairwise import cosine_similarity\n",
    "similarity_scores = cosine_similarity(vector)"
   ]
  },
  {
   "cell_type": "markdown",
   "id": "2bf19b6c-627d-4aa2-972e-d0b27153d966",
   "metadata": {},
   "source": [
    "similarity_scores is a matrix where each element represents the similarity score between two movies. This similarity is based on cosine_similarity. Higher scores indicate greater similarity. So, in our case similarity_scores is a matrix which gives similarity of one movie with other 4799 movies and with itself(which is 1). Therefore the shape of similiarity_scores matrix is (4800,4800)."
   ]
  },
  {
   "cell_type": "code",
   "execution_count": 137,
   "id": "fbf5d992-bb8e-4b43-9c2a-a43b2f254d3e",
   "metadata": {},
   "outputs": [
    {
     "data": {
      "text/plain": [
       "(4800, 4800)"
      ]
     },
     "execution_count": 137,
     "metadata": {},
     "output_type": "execute_result"
    }
   ],
   "source": [
    "similarity_scores.shape"
   ]
  },
  {
   "cell_type": "markdown",
   "id": "270fddbf-c500-4326-8385-b6232bc9ad49",
   "metadata": {},
   "source": [
    "Now creating a function that identifies the top 5 movies most similar to the one entered by the user."
   ]
  },
  {
   "cell_type": "code",
   "execution_count": 138,
   "id": "af404816-e11e-4790-8d15-a94c0e12b684",
   "metadata": {},
   "outputs": [],
   "source": [
    "def recommend(movie_name):\n",
    "    movies_list = list(new_movies['title'])\n",
    "    ind = movies_list.index(movie_name)\n",
    "    similarity_scores_list = list(similarity_scores[ind])\n",
    "    d = {}\n",
    "    l = []\n",
    "    for i in similarity_scores_list:\n",
    "        d[i] = similarity_scores_list.index(i)\n",
    "    d = dict(sorted(d.items(),reverse=True))\n",
    "    for i in d.values():\n",
    "        l.append(i)\n",
    "    l = l[1:6]\n",
    "    for i in l:\n",
    "        print(new_movies['title'].iloc[i])"
   ]
  },
  {
   "cell_type": "code",
   "execution_count": 139,
   "id": "c882c0e8-572b-40df-878b-ce5a31f330fc",
   "metadata": {},
   "outputs": [
    {
     "name": "stdout",
     "output_type": "stream",
     "text": [
      "Spider-Man 2\n",
      "Spider-Man\n",
      "The Amazing Spider-Man 2\n",
      "The Amazing Spider-Man\n",
      "Arachnophobia\n"
     ]
    }
   ],
   "source": [
    "recommend('Spider-Man 3')"
   ]
  },
  {
   "cell_type": "code",
   "execution_count": null,
   "id": "889ce941-a1c7-4014-89b8-8527d40e3b7b",
   "metadata": {},
   "outputs": [],
   "source": []
  }
 ],
 "metadata": {
  "kernelspec": {
   "display_name": "Python 3 (ipykernel)",
   "language": "python",
   "name": "python3"
  },
  "language_info": {
   "codemirror_mode": {
    "name": "ipython",
    "version": 3
   },
   "file_extension": ".py",
   "mimetype": "text/x-python",
   "name": "python",
   "nbconvert_exporter": "python",
   "pygments_lexer": "ipython3",
   "version": "3.12.4"
  }
 },
 "nbformat": 4,
 "nbformat_minor": 5
}
